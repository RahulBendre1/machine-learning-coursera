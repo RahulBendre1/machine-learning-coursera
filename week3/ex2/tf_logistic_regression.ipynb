{
 "cells": [
  {
   "cell_type": "code",
   "execution_count": 14,
   "metadata": {},
   "outputs": [
    {
     "name": "stdout",
     "output_type": "stream",
     "text": [
      "[[ 1.  2.  1.]\n",
      " [ 1.  3.  2.]\n",
      " [ 1.  3.  4.]\n",
      " [ 1.  5.  5.]\n",
      " [ 1.  7.  5.]\n",
      " [ 1.  2.  5.]]\n",
      "[[ 0.]\n",
      " [ 0.]\n",
      " [ 0.]\n",
      " [ 1.]\n",
      " [ 1.]\n",
      " [ 1.]]\n"
     ]
    }
   ],
   "source": [
    "import tensorflow as tf\n",
    "import numpy as np\n",
    "import matplotlib.pyplot as plt\n",
    "\n",
    "data = np.loadtxt('train.txt', unpack=True, dtype=np.float32)\n",
    "xdata = data.T[:, 0:-1]\n",
    "ydata = data.T[:, -1]\n",
    "ydata = np.reshape(ydata, (6, 1))\n",
    "\n",
    "# bias, study hour, attendance\n",
    "print (xdata)\n",
    "print (ydata)"
   ]
  },
  {
   "cell_type": "code",
   "execution_count": 15,
   "metadata": {
    "collapsed": true
   },
   "outputs": [],
   "source": [
    "w = tf.Variable(tf.random_normal([3,1], -1.0, 1.0))\n",
    "b = tf.Variable(tf.random_normal([1], -1.0, 1.0))\n",
    "X = tf.placeholder(tf.float32)\n",
    "Y = tf.placeholder(tf.float32)"
   ]
  },
  {
   "cell_type": "code",
   "execution_count": 16,
   "metadata": {
    "collapsed": true
   },
   "outputs": [],
   "source": [
    "hypothesis = 1 / (1 + tf.exp(-1 * tf.matmul(X, w)))\n",
    "cost_function = tf.reduce_mean(-Y * tf.log(hypothesis) -(1-Y) * tf.log(1-hypothesis))\n",
    "optimizer = tf.train.GradientDescentOptimizer(learning_rate=0.01)\n",
    "updates = optimizer.minimize(cost_function)"
   ]
  },
  {
   "cell_type": "code",
   "execution_count": 17,
   "metadata": {},
   "outputs": [
    {
     "name": "stdout",
     "output_type": "stream",
     "text": [
      "3.84514\n",
      "0.355574\n",
      "0.318531\n",
      "0.295053\n",
      "0.277102\n",
      "[[-4.20051146]\n",
      " [ 0.12203234]\n",
      " [ 1.0346328 ]]\n",
      "[[-0.51592344]\n",
      " [ 0.04140133]\n",
      " [ 0.23566881]]\n",
      "[[False]]\n",
      "[[ True]]\n",
      "[[ True]]\n",
      "[[ True]]\n",
      "[[False]]\n",
      "[[ True]]\n"
     ]
    }
   ],
   "source": [
    "with tf.Session() as sess:\n",
    "    sess.run(tf.global_variables_initializer())\n",
    "    for i in range(4001):\n",
    "        sess.run([cost_function, updates], feed_dict={X:xdata, Y:ydata})\n",
    "        if i % 1000 == 0:\n",
    "            print (sess.run(cost_function, feed_dict={X:xdata, Y:ydata}))\n",
    "    \n",
    "    theta_value_tensor = sess.run(w, feed_dict={X:xdata, Y:ydata})\n",
    "    theta_value_matrix = np.matmul(np.matmul(np.linalg.inv(np.matmul(xdata.T, xdata)), xdata.T), ydata) \n",
    "    print(theta_value_tensor)\n",
    "    print(theta_value_matrix)\n",
    "    \n",
    "    #------------------------------------------------\n",
    "    print (sess.run(hypothesis, feed_dict={X:[[1, 2, 3]]}) > 0.5)\n",
    "    print (sess.run(hypothesis, feed_dict={X:[[1, 4, 5]]}) > 0.5)\n",
    "    print (sess.run(hypothesis, feed_dict={X:[[1, 2, 5]]}) > 0.5)\n",
    "    print (sess.run(hypothesis, feed_dict={X:[[1, 1, 5]]}) > 0.5)\n",
    "    print (sess.run(hypothesis, feed_dict={X:[[1, 5, 3]]}) > 0.5)\n",
    "    print (sess.run(hypothesis, feed_dict={X:[[1, 0, 7]]}) > 0.5)"
   ]
  },
  {
   "cell_type": "code",
   "execution_count": 19,
   "metadata": {},
   "outputs": [
    {
     "name": "stdout",
     "output_type": "stream",
     "text": [
      "[ 2.  3.  4.  5.  6.  7.]\n",
      "-0.117947484995\n",
      "4.05990555043\n",
      "-0.17567588587\n",
      "2.18918848171\n"
     ]
    },
    {
     "data": {
      "image/png": "[encoded data removed]",
      "text/plain": [
       "<matplotlib.figure.Figure at 0x1114baa90>"
      ]
     },
     "metadata": {},
     "output_type": "display_data"
    }
   ],
   "source": [
    "plotx = np.linspace(2, 7, 6)\n",
    "alpha_tensor = -1 * theta_value_tensor[1, 0] / theta_value_tensor[2, 0]\n",
    "beta_tensor = -1 * theta_value_tensor[0, 0] / theta_value_tensor[2, 0]\n",
    "alpha_matrix = -1 * theta_value_matrix[1, 0] / theta_value_matrix[2, 0]\n",
    "beta_matrix = -1 * theta_value_matrix[0, 0] / theta_value_matrix[2, 0]\n",
    "print (plotx)\n",
    "print (alpha_tensor)\n",
    "print (beta_tensor)\n",
    "print (alpha_matrix)\n",
    "print (beta_matrix)\n",
    "plt.plot(xdata[3:, 1], xdata[3:, 2], 'bo', label='pass')\n",
    "plt.plot(xdata[0:3, 1], xdata[0:3, 2], 'ro', label='fail')\n",
    "plt.plot(plotx, plotx*alpha_tensor+beta_tensor, 'g', label='decision boundary with SGD')\n",
    "#plt.plot(plotx, plotx*alpha_matrix+beta_matrix, 'k', label='decision boundary with Matrix Multiplication')\n",
    "plt.xlabel('study hour')\n",
    "plt.ylabel('attendance')\n",
    "plt.legend()\n",
    "plt.show()"
   ]
  },
  {
   "cell_type": "code",
   "execution_count": null,
   "metadata": {
    "collapsed": true
   },
   "outputs": [],
   "source": []
  }
 ],
 "metadata": {
  "kernelspec": {
   "display_name": "Python 3",
   "language": "python",
   "name": "python3"
  },
  "language_info": {
   "codemirror_mode": {
    "name": "ipython",
    "version": 3
   },
   "file_extension": ".py",
   "mimetype": "text/x-python",
   "name": "python",
   "nbconvert_exporter": "python",
   "pygments_lexer": "ipython3",
   "version": "3.6.2"
  }
 },
 "nbformat": 4,
 "nbformat_minor": 1
}
